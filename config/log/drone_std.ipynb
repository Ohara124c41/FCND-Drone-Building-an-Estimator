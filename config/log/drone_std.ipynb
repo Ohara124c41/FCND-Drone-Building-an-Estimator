{
 "cells": [
  {
   "cell_type": "code",
   "execution_count": 6,
   "metadata": {},
   "outputs": [
    {
     "name": "stdout",
     "output_type": "stream",
     "text": [
      " Quad.GPS.X 0.714542  Quad.IMU.AX 0.489346\n"
     ]
    }
   ],
   "source": [
    "import numpy as np                                                                                                                    \n",
    "quad_GPS_X = np.genfromtxt('Graph1.txt', delimiter=',', dtype=None)\n",
    "quad_IMU_AX = np.genfromtxt('Graph2.txt', delimiter=',', dtype=None)\n",
    "\n",
    "quad_GPS_X_std = np.std(quad_GPS_X[1:,1].astype('float32'), ddof=1)\n",
    "quad_IMU_AX_std = np.std(quad_IMU_AX[1:,1].astype('float32'), ddof=1)\n",
    "\n",
    "print(quad_GPS_X[0,1].astype('str'), quad_GPS_X_std, quad_IMU_AX[0,1].astype('str'), quad_IMU_AX_std)"
   ]
  },
  {
   "cell_type": "code",
   "execution_count": null,
   "metadata": {},
   "outputs": [],
   "source": []
  }
 ],
 "metadata": {
  "kernelspec": {
   "display_name": "Python 3",
   "language": "python",
   "name": "python3"
  },
  "language_info": {
   "codemirror_mode": {
    "name": "ipython",
    "version": 3
   },
   "file_extension": ".py",
   "mimetype": "text/x-python",
   "name": "python",
   "nbconvert_exporter": "python",
   "pygments_lexer": "ipython3",
   "version": "3.6.3"
  }
 },
 "nbformat": 4,
 "nbformat_minor": 2
}
